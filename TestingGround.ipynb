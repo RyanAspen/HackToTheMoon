{
  "nbformat": 4,
  "nbformat_minor": 0,
  "metadata": {
    "colab": {
      "provenance": [],
      "collapsed_sections": []
    },
    "kernelspec": {
      "name": "python3",
      "display_name": "Python 3"
    },
    "language_info": {
      "name": "python"
    }
  },
  "cells": [
    {
      "cell_type": "markdown",
      "source": [
        "# Import and Load"
      ],
      "metadata": {
        "id": "sCKv3s40IcKC"
      }
    },
    {
      "cell_type": "code",
      "execution_count": null,
      "metadata": {
        "id": "blNTY3UdqhY0"
      },
      "outputs": [],
      "source": [
        "import pandas as pd\n",
        "import seaborn as sns\n",
        "from matplotlib import pyplot as plt\n",
        "sns.set() # Setting seaborn as default style even if use only matplotlib"
      ]
    },
    {
      "cell_type": "code",
      "source": [
        "cat = ['DRILL_BIT_ID', 'DRILL_BIT_NAME']\n",
        "config = {\n",
        "    \"Buzz Drilldrin\": [5000, 1.5, 0],\n",
        "    \"AstroBit\": [3000, 1, 1500],\n",
        "    \"Apollo\": [1000, 4, 2500],\n",
        "    \"ChallengDriller\": [10000, 0, 0],\n",
        "}"
      ],
      "metadata": {
        "id": "KW8hwDhs-Eha"
      },
      "execution_count": null,
      "outputs": []
    },
    {
      "cell_type": "code",
      "source": [
        "def load_data(file_dir, number):\n",
        "    data = [\n",
        "        pd.read_csv(\n",
        "            f\"{file_dir}{i}.csv\"\n",
        "        )\n",
        "        for i in range(1, number + 1)\n",
        "    ]\n",
        "    return data"
      ],
      "metadata": {
        "id": "l-ujfC92-KLe"
      },
      "execution_count": null,
      "outputs": []
    },
    {
      "cell_type": "markdown",
      "source": [
        "# Compute Time and Cost"
      ],
      "metadata": {
        "id": "MVPk7NpyIQb6"
      }
    },
    {
      "cell_type": "code",
      "source": [
        "def get_cost_and_time_for_asteroid(input_df, input_config):\n",
        "    # Get Cost and Time per Asteroid\n",
        "    # Returns total cost and total time for a particular asteroid\n",
        "\n",
        "    # compute time\n",
        "    prev = None\n",
        "    for index, row in input_df.iterrows():\n",
        "        if prev is not None:\n",
        "            depth = row[\"BIT_DEPTH\"] - prev[\"BIT_DEPTH\"]\n",
        "            input_df.at[index, \"STEP_DEPTH\"] = depth\n",
        "            try:\n",
        "                input_df.at[index, \"TIME\"] = depth / (\n",
        "                        (row[\"RATE_OF_PENETRATION\"] + prev[\"RATE_OF_PENETRATION\"]) / 2\n",
        "                )\n",
        "                if prev[\"DRILL_BIT_ID\"] != row[\"DRILL_BIT_ID\"]:\n",
        "                    input_df.at[index, \"TIME\"] += 30 / 3600 * 2 * (row[\"BIT_DEPTH\"] / 100)\n",
        "            except:\n",
        "                input_df.at[index, \"TIME\"] = 0\n",
        "        else:\n",
        "            input_df.at[index, \"TIME\"] = 0\n",
        "            input_df.at[index, \"STEP_DEPTH\"] = 0\n",
        "        prev = row\n",
        "\n",
        "    # compute cost\n",
        "    prev = None\n",
        "    used_drill_id = set()\n",
        "    for index, row in input_df.iterrows():\n",
        "        cost_per_run, cost_per_foot, cost_per_hour = input_config[row[\"DRILL_BIT_NAME\"]]\n",
        "\n",
        "        input_df.at[index, \"COST\"] = (\n",
        "                row[\"STEP_DEPTH\"] * cost_per_foot + row[\"TIME\"] * cost_per_hour\n",
        "        )\n",
        "        if row[\"DRILL_BIT_ID\"] not in used_drill_id:\n",
        "            used_drill_id.add(row[\"DRILL_BIT_ID\"])\n",
        "            input_df.at[index, \"COST\"] += cost_per_run\n",
        "        prev = row\n",
        "\n",
        "    # Extract costs and times\n",
        "    total_cost = input_df[\"COST\"].sum()\n",
        "    total_time = input_df[\"TIME\"].sum()\n",
        "\n",
        "    return total_cost, total_time"
      ],
      "metadata": {
        "id": "rpDEGj5dxUH9"
      },
      "execution_count": null,
      "outputs": []
    },
    {
      "cell_type": "markdown",
      "source": [
        "# Normalizing and Remove Outliers "
      ],
      "metadata": {
        "id": "qgP0vIDDIjvl"
      }
    },
    {
      "cell_type": "code",
      "source": [
        "def normalize(input_df, input_cat):\n",
        "    # normalize\n",
        "    input_cat = set(input_cat)\n",
        "    normalized_df = input_df\n",
        "    for col in input_df.columns:\n",
        "        if col not in input_cat:\n",
        "            normalized_df[col] = (input_df[col] - input_df[col].mean()) / input_df[col].std()\n",
        "    return normalized_df"
      ],
      "metadata": {
        "id": "q-WtcLQh9Gm5"
      },
      "execution_count": null,
      "outputs": []
    },
    {
      "cell_type": "code",
      "source": [
        "def remove_outliers(input_df, input_cat, const):\n",
        "    new_df = input_df\n",
        "    input_cat = set(input_cat)\n",
        "    const = const\n",
        "    for col in new_df.columns:\n",
        "        if col not in input_cat:\n",
        "            q1 = new_df[col].quantile(0.25)\n",
        "            q3 = new_df[col].quantile(0.75)\n",
        "            iqr = (q3 - q1)  # iqr is interquartile range.\n",
        "\n",
        "            # filter = (normalized_df[col] >= q1 - 1.5 * iqr) & (normalized_df[col] <= q3 + 1.5 *iqr)\n",
        "            new_df = new_df[new_df[col] >= q1 - const * iqr]\n",
        "            new_df = new_df[new_df[col] <= q3 + const * iqr]\n",
        "            new_df = new_df[new_df[col] != 0]\n",
        "    return new_df"
      ],
      "metadata": {
        "id": "0NsNEAar5qBe"
      },
      "execution_count": null,
      "outputs": []
    },
    {
      "cell_type": "markdown",
      "source": [
        "# New"
      ],
      "metadata": {
        "id": "08Zuoh3rI4Yi"
      }
    },
    {
      "cell_type": "code",
      "source": [
        "file_dir = \"https://raw.githubusercontent.com/ClassicSours/TheInterstellarAsteroidRush/main/Asteroids/Asteroid%20\"\n",
        "\n",
        "data = load_data(file_dir, 20)\n",
        "normalized_data = data.copy()\n",
        "for d in range(len(data)):\n",
        "    data[d] = remove_outliers(data[d], cat, 15.0)\n",
        "    normalized_data[d] = normalize(normalized_data[d], cat)"
      ],
      "metadata": {
        "id": "jE3oW1yH-Ukc"
      },
      "execution_count": null,
      "outputs": []
    },
    {
      "cell_type": "code",
      "source": [
        "i = int(0)"
      ],
      "metadata": {
        "id": "2dZynxEYHgs4"
      },
      "execution_count": null,
      "outputs": []
    },
    {
      "cell_type": "code",
      "source": [
        "def compute_timestamp(input_df):\n",
        "    timestampe = 0\n",
        "    for index, row in input_df[i].iterrows():\n",
        "        timestampe += row[\"TIME\"]\n",
        "        input_df[i].at[index, \"TIMESTAMP\"] = timestampe"
      ],
      "metadata": {
        "id": "iN1CwIjLAXEc"
      },
      "execution_count": null,
      "outputs": []
    },
    {
      "cell_type": "code",
      "source": [
        "total_cost, total_time = get_cost_and_time_for_asteroid(data[i], config)\n",
        "compute_timestamp(data)"
      ],
      "metadata": {
        "id": "Tb-Z1Q3uCQKv"
      },
      "execution_count": null,
      "outputs": []
    },
    {
      "cell_type": "code",
      "source": [
        "total_cost, total_time = get_cost_and_time_for_asteroid(normalized_data[i], config)\n",
        "compute_timestamp(normalized_data)"
      ],
      "metadata": {
        "id": "Sj0ewAzWAq-P"
      },
      "execution_count": null,
      "outputs": []
    },
    {
      "cell_type": "code",
      "source": [
        "data[i].columns"
      ],
      "metadata": {
        "colab": {
          "base_uri": "https://localhost:8080/"
        },
        "id": "mfwaQJvZChdz",
        "outputId": "e401d9b4-460f-42e9-81f0-6ab15126efc7"
      },
      "execution_count": null,
      "outputs": [
        {
          "output_type": "execute_result",
          "data": {
            "text/plain": [
              "Index(['BIT_DEPTH', 'RATE_OF_PENETRATION', 'HOOK_LOAD',\n",
              "       'DIFFERENTIAL_PRESSURE', 'WEIGHT_ON_BIT', 'DRILL_BIT_ID',\n",
              "       'DRILL_BIT_NAME', 'TIME', 'STEP_DEPTH', 'COST', 'TIMESTAMP'],\n",
              "      dtype='object')"
            ]
          },
          "metadata": {},
          "execution_count": 29
        }
      ]
    },
    {
      "cell_type": "code",
      "source": [
        "remove_outliers(data[i], cat, 10.0)"
      ],
      "metadata": {
        "colab": {
          "base_uri": "https://localhost:8080/",
          "height": 424
        },
        "id": "ouMUmnIeC-HW",
        "outputId": "93219a9e-77b6-4ba7-f16d-8619de8f037f"
      },
      "execution_count": null,
      "outputs": [
        {
          "output_type": "execute_result",
          "data": {
            "text/plain": [
              "       BIT_DEPTH  RATE_OF_PENETRATION  HOOK_LOAD  DIFFERENTIAL_PRESSURE  \\\n",
              "1         746.53               289.74     107.61                 114.19   \n",
              "2         747.02               289.74     104.44                  98.99   \n",
              "3         748.54               284.22     106.09                 121.55   \n",
              "4         749.02               298.22     105.44                  93.13   \n",
              "5         750.53               285.67     106.78                 106.12   \n",
              "...          ...                  ...        ...                    ...   \n",
              "12181   14314.51               212.06     187.44                1109.94   \n",
              "12182   14315.04               234.69     187.47                1104.86   \n",
              "12183   14316.55               225.35     188.84                1102.61   \n",
              "12184   14317.01               213.28     189.42                1095.56   \n",
              "12185   14318.52               234.56     189.16                1081.49   \n",
              "\n",
              "       WEIGHT_ON_BIT  DRILL_BIT_ID  DRILL_BIT_NAME      TIME  STEP_DEPTH  \\\n",
              "1               3.01             1  Buzz Drilldrin  0.005422        1.52   \n",
              "2               5.04             1  Buzz Drilldrin  0.001691        0.49   \n",
              "3               3.69             1  Buzz Drilldrin  0.005297        1.52   \n",
              "4               3.28             1  Buzz Drilldrin  0.001648        0.48   \n",
              "5               2.48             1  Buzz Drilldrin  0.005172        1.51   \n",
              "...              ...           ...             ...       ...         ...   \n",
              "12181          22.17             2        AstroBit  0.006497        1.45   \n",
              "12182          21.99             2        AstroBit  0.002373        0.53   \n",
              "12183          21.24             2        AstroBit  0.006565        1.51   \n",
              "12184          21.25             2        AstroBit  0.002097        0.46   \n",
              "12185          20.99             2        AstroBit  0.006743        1.51   \n",
              "\n",
              "            COST  TIMESTAMP  \n",
              "1       2.280000   0.005422  \n",
              "2       0.735000   0.007113  \n",
              "3       2.280000   0.012410  \n",
              "4       0.720000   0.014058  \n",
              "5       2.265000   0.019230  \n",
              "...          ...        ...  \n",
              "12181  11.195934  81.276990  \n",
              "12182   4.089037  81.279363  \n",
              "12183  11.356970  81.285928  \n",
              "12184   3.606160  81.288025  \n",
              "12185  11.625220  81.294768  \n",
              "\n",
              "[11943 rows x 11 columns]"
            ],
            "text/html": [
              "\n",
              "  <div id=\"df-cda558b3-fe0d-40c0-8aa1-b9c625a0e26d\">\n",
              "    <div class=\"colab-df-container\">\n",
              "      <div>\n",
              "<style scoped>\n",
              "    .dataframe tbody tr th:only-of-type {\n",
              "        vertical-align: middle;\n",
              "    }\n",
              "\n",
              "    .dataframe tbody tr th {\n",
              "        vertical-align: top;\n",
              "    }\n",
              "\n",
              "    .dataframe thead th {\n",
              "        text-align: right;\n",
              "    }\n",
              "</style>\n",
              "<table border=\"1\" class=\"dataframe\">\n",
              "  <thead>\n",
              "    <tr style=\"text-align: right;\">\n",
              "      <th></th>\n",
              "      <th>BIT_DEPTH</th>\n",
              "      <th>RATE_OF_PENETRATION</th>\n",
              "      <th>HOOK_LOAD</th>\n",
              "      <th>DIFFERENTIAL_PRESSURE</th>\n",
              "      <th>WEIGHT_ON_BIT</th>\n",
              "      <th>DRILL_BIT_ID</th>\n",
              "      <th>DRILL_BIT_NAME</th>\n",
              "      <th>TIME</th>\n",
              "      <th>STEP_DEPTH</th>\n",
              "      <th>COST</th>\n",
              "      <th>TIMESTAMP</th>\n",
              "    </tr>\n",
              "  </thead>\n",
              "  <tbody>\n",
              "    <tr>\n",
              "      <th>1</th>\n",
              "      <td>746.53</td>\n",
              "      <td>289.74</td>\n",
              "      <td>107.61</td>\n",
              "      <td>114.19</td>\n",
              "      <td>3.01</td>\n",
              "      <td>1</td>\n",
              "      <td>Buzz Drilldrin</td>\n",
              "      <td>0.005422</td>\n",
              "      <td>1.52</td>\n",
              "      <td>2.280000</td>\n",
              "      <td>0.005422</td>\n",
              "    </tr>\n",
              "    <tr>\n",
              "      <th>2</th>\n",
              "      <td>747.02</td>\n",
              "      <td>289.74</td>\n",
              "      <td>104.44</td>\n",
              "      <td>98.99</td>\n",
              "      <td>5.04</td>\n",
              "      <td>1</td>\n",
              "      <td>Buzz Drilldrin</td>\n",
              "      <td>0.001691</td>\n",
              "      <td>0.49</td>\n",
              "      <td>0.735000</td>\n",
              "      <td>0.007113</td>\n",
              "    </tr>\n",
              "    <tr>\n",
              "      <th>3</th>\n",
              "      <td>748.54</td>\n",
              "      <td>284.22</td>\n",
              "      <td>106.09</td>\n",
              "      <td>121.55</td>\n",
              "      <td>3.69</td>\n",
              "      <td>1</td>\n",
              "      <td>Buzz Drilldrin</td>\n",
              "      <td>0.005297</td>\n",
              "      <td>1.52</td>\n",
              "      <td>2.280000</td>\n",
              "      <td>0.012410</td>\n",
              "    </tr>\n",
              "    <tr>\n",
              "      <th>4</th>\n",
              "      <td>749.02</td>\n",
              "      <td>298.22</td>\n",
              "      <td>105.44</td>\n",
              "      <td>93.13</td>\n",
              "      <td>3.28</td>\n",
              "      <td>1</td>\n",
              "      <td>Buzz Drilldrin</td>\n",
              "      <td>0.001648</td>\n",
              "      <td>0.48</td>\n",
              "      <td>0.720000</td>\n",
              "      <td>0.014058</td>\n",
              "    </tr>\n",
              "    <tr>\n",
              "      <th>5</th>\n",
              "      <td>750.53</td>\n",
              "      <td>285.67</td>\n",
              "      <td>106.78</td>\n",
              "      <td>106.12</td>\n",
              "      <td>2.48</td>\n",
              "      <td>1</td>\n",
              "      <td>Buzz Drilldrin</td>\n",
              "      <td>0.005172</td>\n",
              "      <td>1.51</td>\n",
              "      <td>2.265000</td>\n",
              "      <td>0.019230</td>\n",
              "    </tr>\n",
              "    <tr>\n",
              "      <th>...</th>\n",
              "      <td>...</td>\n",
              "      <td>...</td>\n",
              "      <td>...</td>\n",
              "      <td>...</td>\n",
              "      <td>...</td>\n",
              "      <td>...</td>\n",
              "      <td>...</td>\n",
              "      <td>...</td>\n",
              "      <td>...</td>\n",
              "      <td>...</td>\n",
              "      <td>...</td>\n",
              "    </tr>\n",
              "    <tr>\n",
              "      <th>12181</th>\n",
              "      <td>14314.51</td>\n",
              "      <td>212.06</td>\n",
              "      <td>187.44</td>\n",
              "      <td>1109.94</td>\n",
              "      <td>22.17</td>\n",
              "      <td>2</td>\n",
              "      <td>AstroBit</td>\n",
              "      <td>0.006497</td>\n",
              "      <td>1.45</td>\n",
              "      <td>11.195934</td>\n",
              "      <td>81.276990</td>\n",
              "    </tr>\n",
              "    <tr>\n",
              "      <th>12182</th>\n",
              "      <td>14315.04</td>\n",
              "      <td>234.69</td>\n",
              "      <td>187.47</td>\n",
              "      <td>1104.86</td>\n",
              "      <td>21.99</td>\n",
              "      <td>2</td>\n",
              "      <td>AstroBit</td>\n",
              "      <td>0.002373</td>\n",
              "      <td>0.53</td>\n",
              "      <td>4.089037</td>\n",
              "      <td>81.279363</td>\n",
              "    </tr>\n",
              "    <tr>\n",
              "      <th>12183</th>\n",
              "      <td>14316.55</td>\n",
              "      <td>225.35</td>\n",
              "      <td>188.84</td>\n",
              "      <td>1102.61</td>\n",
              "      <td>21.24</td>\n",
              "      <td>2</td>\n",
              "      <td>AstroBit</td>\n",
              "      <td>0.006565</td>\n",
              "      <td>1.51</td>\n",
              "      <td>11.356970</td>\n",
              "      <td>81.285928</td>\n",
              "    </tr>\n",
              "    <tr>\n",
              "      <th>12184</th>\n",
              "      <td>14317.01</td>\n",
              "      <td>213.28</td>\n",
              "      <td>189.42</td>\n",
              "      <td>1095.56</td>\n",
              "      <td>21.25</td>\n",
              "      <td>2</td>\n",
              "      <td>AstroBit</td>\n",
              "      <td>0.002097</td>\n",
              "      <td>0.46</td>\n",
              "      <td>3.606160</td>\n",
              "      <td>81.288025</td>\n",
              "    </tr>\n",
              "    <tr>\n",
              "      <th>12185</th>\n",
              "      <td>14318.52</td>\n",
              "      <td>234.56</td>\n",
              "      <td>189.16</td>\n",
              "      <td>1081.49</td>\n",
              "      <td>20.99</td>\n",
              "      <td>2</td>\n",
              "      <td>AstroBit</td>\n",
              "      <td>0.006743</td>\n",
              "      <td>1.51</td>\n",
              "      <td>11.625220</td>\n",
              "      <td>81.294768</td>\n",
              "    </tr>\n",
              "  </tbody>\n",
              "</table>\n",
              "<p>11943 rows × 11 columns</p>\n",
              "</div>\n",
              "      <button class=\"colab-df-convert\" onclick=\"convertToInteractive('df-cda558b3-fe0d-40c0-8aa1-b9c625a0e26d')\"\n",
              "              title=\"Convert this dataframe to an interactive table.\"\n",
              "              style=\"display:none;\">\n",
              "        \n",
              "  <svg xmlns=\"http://www.w3.org/2000/svg\" height=\"24px\"viewBox=\"0 0 24 24\"\n",
              "       width=\"24px\">\n",
              "    <path d=\"M0 0h24v24H0V0z\" fill=\"none\"/>\n",
              "    <path d=\"M18.56 5.44l.94 2.06.94-2.06 2.06-.94-2.06-.94-.94-2.06-.94 2.06-2.06.94zm-11 1L8.5 8.5l.94-2.06 2.06-.94-2.06-.94L8.5 2.5l-.94 2.06-2.06.94zm10 10l.94 2.06.94-2.06 2.06-.94-2.06-.94-.94-2.06-.94 2.06-2.06.94z\"/><path d=\"M17.41 7.96l-1.37-1.37c-.4-.4-.92-.59-1.43-.59-.52 0-1.04.2-1.43.59L10.3 9.45l-7.72 7.72c-.78.78-.78 2.05 0 2.83L4 21.41c.39.39.9.59 1.41.59.51 0 1.02-.2 1.41-.59l7.78-7.78 2.81-2.81c.8-.78.8-2.07 0-2.86zM5.41 20L4 18.59l7.72-7.72 1.47 1.35L5.41 20z\"/>\n",
              "  </svg>\n",
              "      </button>\n",
              "      \n",
              "  <style>\n",
              "    .colab-df-container {\n",
              "      display:flex;\n",
              "      flex-wrap:wrap;\n",
              "      gap: 12px;\n",
              "    }\n",
              "\n",
              "    .colab-df-convert {\n",
              "      background-color: #E8F0FE;\n",
              "      border: none;\n",
              "      border-radius: 50%;\n",
              "      cursor: pointer;\n",
              "      display: none;\n",
              "      fill: #1967D2;\n",
              "      height: 32px;\n",
              "      padding: 0 0 0 0;\n",
              "      width: 32px;\n",
              "    }\n",
              "\n",
              "    .colab-df-convert:hover {\n",
              "      background-color: #E2EBFA;\n",
              "      box-shadow: 0px 1px 2px rgba(60, 64, 67, 0.3), 0px 1px 3px 1px rgba(60, 64, 67, 0.15);\n",
              "      fill: #174EA6;\n",
              "    }\n",
              "\n",
              "    [theme=dark] .colab-df-convert {\n",
              "      background-color: #3B4455;\n",
              "      fill: #D2E3FC;\n",
              "    }\n",
              "\n",
              "    [theme=dark] .colab-df-convert:hover {\n",
              "      background-color: #434B5C;\n",
              "      box-shadow: 0px 1px 3px 1px rgba(0, 0, 0, 0.15);\n",
              "      filter: drop-shadow(0px 1px 2px rgba(0, 0, 0, 0.3));\n",
              "      fill: #FFFFFF;\n",
              "    }\n",
              "  </style>\n",
              "\n",
              "      <script>\n",
              "        const buttonEl =\n",
              "          document.querySelector('#df-cda558b3-fe0d-40c0-8aa1-b9c625a0e26d button.colab-df-convert');\n",
              "        buttonEl.style.display =\n",
              "          google.colab.kernel.accessAllowed ? 'block' : 'none';\n",
              "\n",
              "        async function convertToInteractive(key) {\n",
              "          const element = document.querySelector('#df-cda558b3-fe0d-40c0-8aa1-b9c625a0e26d');\n",
              "          const dataTable =\n",
              "            await google.colab.kernel.invokeFunction('convertToInteractive',\n",
              "                                                     [key], {});\n",
              "          if (!dataTable) return;\n",
              "\n",
              "          const docLinkHtml = 'Like what you see? Visit the ' +\n",
              "            '<a target=\"_blank\" href=https://colab.research.google.com/notebooks/data_table.ipynb>data table notebook</a>'\n",
              "            + ' to learn more about interactive tables.';\n",
              "          element.innerHTML = '';\n",
              "          dataTable['output_type'] = 'display_data';\n",
              "          await google.colab.output.renderOutput(dataTable, element);\n",
              "          const docLink = document.createElement('div');\n",
              "          docLink.innerHTML = docLinkHtml;\n",
              "          element.appendChild(docLink);\n",
              "        }\n",
              "      </script>\n",
              "    </div>\n",
              "  </div>\n",
              "  "
            ]
          },
          "metadata": {},
          "execution_count": 36
        }
      ]
    },
    {
      "cell_type": "code",
      "source": [
        "filter=(data[i][\"DRILL_BIT_NAME\"]==\"Buzz Drilldrin\")"
      ],
      "metadata": {
        "id": "BzU2Q8zUEQpi"
      },
      "execution_count": null,
      "outputs": []
    },
    {
      "cell_type": "code",
      "source": [
        "filter"
      ],
      "metadata": {
        "colab": {
          "base_uri": "https://localhost:8080/"
        },
        "id": "F2c6oG3hEnyh",
        "outputId": "9678dcc0-a2f0-499a-ddae-b9892fcd92ea"
      },
      "execution_count": null,
      "outputs": [
        {
          "output_type": "execute_result",
          "data": {
            "text/plain": [
              "0         True\n",
              "1         True\n",
              "2         True\n",
              "3         True\n",
              "4         True\n",
              "         ...  \n",
              "17525    False\n",
              "17526    False\n",
              "17527    False\n",
              "17528    False\n",
              "17529    False\n",
              "Name: DRILL_BIT_NAME, Length: 17287, dtype: bool"
            ]
          },
          "metadata": {},
          "execution_count": 49
        }
      ]
    },
    {
      "cell_type": "code",
      "source": [
        "sns.scatterplot(x=data[i][filter][\"TIMESTAMP\"], \n",
        "                y=data[i][filter][\"DIFFERENTIAL_PRESSURE\"])"
      ],
      "metadata": {
        "colab": {
          "base_uri": "https://localhost:8080/",
          "height": 302
        },
        "id": "in4UAdOY_0ne",
        "outputId": "9aa59e6c-bf72-4f20-bc95-bdadf719a3c5"
      },
      "execution_count": null,
      "outputs": [
        {
          "output_type": "execute_result",
          "data": {
            "text/plain": [
              "<matplotlib.axes._subplots.AxesSubplot at 0x7fd92f698650>"
            ]
          },
          "metadata": {},
          "execution_count": 51
        },
        {
          "output_type": "display_data",
          "data": {
            "text/plain": [
              "<Figure size 432x288 with 1 Axes>"
            ],
            "image/png": "[encoded data removed]"
          },
          "metadata": {}
        }
      ]
    },
    {
      "cell_type": "code",
      "source": [
        "sns.scatterplot(x=data[i][\"TIMESTAMP\"], \n",
        "                y=data[i][\"DIFFERENTIAL_PRESSURE\"])"
      ],
      "metadata": {
        "colab": {
          "base_uri": "https://localhost:8080/",
          "height": 302
        },
        "id": "StG5XLlME5FM",
        "outputId": "42cd68f1-f4f4-4b75-898c-9723e3ced114"
      },
      "execution_count": null,
      "outputs": [
        {
          "output_type": "execute_result",
          "data": {
            "text/plain": [
              "<matplotlib.axes._subplots.AxesSubplot at 0x7fd92f543d90>"
            ]
          },
          "metadata": {},
          "execution_count": 52
        },
        {
          "output_type": "display_data",
          "data": {
            "text/plain": [
              "<Figure size 432x288 with 1 Axes>"
            ],
            "image/png": "[encoded data removed]"
          },
          "metadata": {}
        }
      ]
    },
    {
      "cell_type": "code",
      "source": [
        "data[i].columns"
      ],
      "metadata": {
        "colab": {
          "base_uri": "https://localhost:8080/"
        },
        "id": "Z_x9WcMo_8ST",
        "outputId": "30900461-e194-42ae-aff1-778e51a6470b"
      },
      "execution_count": null,
      "outputs": [
        {
          "output_type": "execute_result",
          "data": {
            "text/plain": [
              "Index(['BIT_DEPTH', 'RATE_OF_PENETRATION', 'HOOK_LOAD',\n",
              "       'DIFFERENTIAL_PRESSURE', 'WEIGHT_ON_BIT', 'DRILL_BIT_ID',\n",
              "       'DRILL_BIT_NAME', 'TIME', 'STEP_DEPTH', 'COST', 'ELAPSED'],\n",
              "      dtype='object')"
            ]
          },
          "metadata": {},
          "execution_count": 12
        }
      ]
    },
    {
      "cell_type": "code",
      "source": [
        "for i in ['BIT_DEPTH', 'RATE_OF_PENETRATION', 'HOOK_LOAD',\n",
        "       'DIFFERENTIAL_PRESSURE', 'WEIGHT_ON_BIT', 'DRILL_BIT_ID', 'TIME', 'STEP_DEPTH', 'COST', 'ELAPSED']:\n",
        "    a = data[0][i].mean()\n",
        "    b = data[0][i].std()\n",
        "    print(f\"{i}: {a} ; {b}\\n\")"
      ],
      "metadata": {
        "colab": {
          "base_uri": "https://localhost:8080/"
        },
        "id": "y32alxHjIGML",
        "outputId": "671ff1f7-5e40-4132-ad9e-9b322eb79137"
      },
      "execution_count": null,
      "outputs": [
        {
          "output_type": "stream",
          "name": "stdout",
          "text": [
            "BIT_DEPTH: 10496.970494302077 ; 5708.292644128712\n",
            "\n",
            "RATE_OF_PENETRATION: 231.93895557355236 ; 143.91932833303002\n",
            "\n",
            "HOOK_LOAD: 150.38653988546304 ; 33.05675774782965\n",
            "\n",
            "DIFFERENTIAL_PRESSURE: 770.4394316538439 ; 326.2942958306679\n",
            "\n",
            "WEIGHT_ON_BIT: 36.06205472320241 ; 12.704745132148794\n",
            "\n",
            "DRILL_BIT_ID: 2.107306068143692 ; 0.9259880396450831\n",
            "\n",
            "TIME: 0.00923340314892188 ; 0.03508102654220752\n",
            "\n",
            "STEP_DEPTH: 1.1502007288714062 ; 0.9302661091074693\n",
            "\n",
            "COST: 7.995706976800908 ; 120.06135999104153\n",
            "\n",
            "ELAPSED: 58.08696757324511 ; 46.328038567507114\n",
            "\n"
          ]
        }
      ]
    },
    {
      "cell_type": "code",
      "source": [
        "data[i]['ELAPSED'].std()"
      ],
      "metadata": {
        "colab": {
          "base_uri": "https://localhost:8080/"
        },
        "id": "I7Pa3rlJH01W",
        "outputId": "ee3aadb8-786e-4e58-dfbc-f7ccaa1784e3"
      },
      "execution_count": null,
      "outputs": [
        {
          "output_type": "execute_result",
          "data": {
            "text/plain": [
              "46.328038567507114"
            ]
          },
          "metadata": {},
          "execution_count": 16
        }
      ]
    },
    {
      "cell_type": "code",
      "source": [
        "new_drill = []\n",
        "for i in data:\n",
        "    drill_id = 0\n",
        "    for index, row in i.iterrows():\n",
        "        if row[\"DRILL_BIT_ID\"] > drill_id:\n",
        "            new_drill.append(row)\n",
        "            drill_id += 1\n"
      ],
      "metadata": {
        "id": "xI_1Zvu-Q89O"
      },
      "execution_count": null,
      "outputs": []
    },
    {
      "cell_type": "code",
      "source": [
        "def get_depth_cost_and_time_for_asteroid(input_df, input_config):\n",
        "    bit_stats = {\n",
        "        \"Buzz Drilldrin\": [0, 0, 0],  # [depth, cost, time]\n",
        "        \"AstroBit\": [0, 0, 0],\n",
        "        \"Apollo\": [0, 0, 0],\n",
        "        \"ChallengDriller\": [0, 0, 0],\n",
        "    }\n",
        "    prev = None\n",
        "    used_drill_id = set()\n",
        "    for _, row in input_df.iterrows():\n",
        "        cost_per_run, cost_per_foot, cost_per_hour = input_config[row[\"DRILL_BIT_NAME\"]]\n",
        "        if prev is not None:\n",
        "            depth = row[\"BIT_DEPTH\"] - prev[\"BIT_DEPTH\"]\n",
        "            bit_stats[row[\"DRILL_BIT_NAME\"]][0] += depth\n",
        "            if (row[\"RATE_OF_PENETRATION\"] + prev[\"RATE_OF_PENETRATION\"]) != 0:\n",
        "                time = depth / (\n",
        "                    (row[\"RATE_OF_PENETRATION\"] + prev[\"RATE_OF_PENETRATION\"]) / 2\n",
        "                )\n",
        "            else:\n",
        "                time = 0\n",
        "            bit_stats[row[\"DRILL_BIT_NAME\"]][2] += time\n",
        "            bit_stats[row[\"DRILL_BIT_NAME\"]][1] += (\n",
        "                depth * cost_per_foot + time * cost_per_hour\n",
        "            )\n",
        "            if row[\"DRILL_BIT_ID\"] not in used_drill_id:\n",
        "                used_drill_id.add(row[\"DRILL_BIT_ID\"])\n",
        "                bit_stats[row[\"DRILL_BIT_NAME\"]][1] += cost_per_run\n",
        "        prev = row\n",
        "    return bit_stats"
      ],
      "metadata": {
        "id": "V-zTpvYOM54E"
      },
      "execution_count": null,
      "outputs": []
    },
    {
      "cell_type": "code",
      "source": [
        "config = {\n",
        "    \"Buzz Drilldrin\": [5000, 1.5, 0],\n",
        "    \"AstroBit\": [3000, 1, 1500],\n",
        "    \"Apollo\": [1000, 4, 2500],\n",
        "    \"ChallengDriller\": [10000, 0, 0],\n",
        "}"
      ],
      "metadata": {
        "id": "RRyat1qsM7bR"
      },
      "execution_count": null,
      "outputs": []
    },
    {
      "cell_type": "code",
      "source": [],
      "metadata": {
        "id": "3UkCDfI3M9vm"
      },
      "execution_count": null,
      "outputs": []
    }
  ]
}