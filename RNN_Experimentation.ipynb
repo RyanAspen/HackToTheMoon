{
  "nbformat": 4,
  "nbformat_minor": 0,
  "metadata": {
    "colab": {
      "provenance": []
    },
    "kernelspec": {
      "name": "python3",
      "display_name": "Python 3"
    },
    "language_info": {
      "name": "python"
    },
    "accelerator": "GPU",
    "gpuClass": "standard"
  },
  "cells": [
    {
      "cell_type": "code",
      "source": [
        "import pandas as pd\n",
        "import seaborn as sns\n",
        "from matplotlib import pyplot as plt\n",
        "sns.set() # Setting seaborn as default style even if use only matplotlib\n",
        "\n",
        "df_all = pd.concat(\n",
        "    [\n",
        "        pd.read_csv(\n",
        "            f\"https://raw.githubusercontent.com/ClassicSours/TheInterstellarAsteroidRush/main/Asteroids/Asteroid%20{i}.csv\"\n",
        "        )\n",
        "        for i in range(1, 21)\n",
        "    ]\n",
        ")"
      ],
      "metadata": {
        "id": "XGDsi0W5IvIo"
      },
      "execution_count": null,
      "outputs": []
    },
    {
      "cell_type": "code",
      "execution_count": null,
      "metadata": {
        "id": "cPZ75JnTIpQr"
      },
      "outputs": [],
      "source": [
        "df_buzz = df_all[df_all['DRILL_BIT_NAME'] == 'Buzz Drilldrin']\n",
        "df_astro = df_all[df_all['DRILL_BIT_NAME'] == 'AstroBit']\n",
        "df_apollo = df_all[df_all['DRILL_BIT_NAME'] == 'Apollo']\n",
        "df_challenge = df_all[df_all['DRILL_BIT_NAME'] == 'ChallengDriller']"
      ]
    },
    {
      "cell_type": "code",
      "source": [
        "dfs = [df_buzz, df_astro, df_apollo, df_challenge]\n",
        "for df in dfs:\n",
        "  df= df.loc[~df.index.duplicated(), :]"
      ],
      "metadata": {
        "id": "Kn10WM7VIxEj"
      },
      "execution_count": null,
      "outputs": []
    },
    {
      "cell_type": "code",
      "source": [
        "cat = {'DRILL_BIT_ID', 'DRILL_BIT_NAME'}\n",
        "const = 15.0\n",
        "# normalize\n",
        "without_cats = []\n",
        "for df in dfs:\n",
        "  normalized_df = df\n",
        "  normalized_df = normalized_df.loc[~normalized_df.index.duplicated(), :]\n",
        "  for col in df.columns:\n",
        "      if col not in cat:\n",
        "          normalized_df[col] = (normalized_df[col]-normalized_df[col].mean())/normalized_df[col].std()\n",
        "          Q1 = normalized_df[col].quantile(0.25)\n",
        "          Q3 = normalized_df[col].quantile(0.75)\n",
        "          IQR = (Q3 - Q1)    #IQR is interquartile range. \n",
        "\n",
        "          filter = (normalized_df[col] >= Q1 - 1.5 * IQR) & (normalized_df[col] <= Q3 + 1.5 *IQR)\n",
        "          normalized_df = normalized_df[normalized_df[col] >= Q1 - const * IQR]\n",
        "          normalized_df = normalized_df[normalized_df[col] <= Q3 + const * IQR]\n",
        "          normalized_df = normalized_df[normalized_df[col] != 0]\n",
        "  without_cats.append(normalized_df.drop(['DRILL_BIT_NAME'], axis=1))"
      ],
      "metadata": {
        "colab": {
          "base_uri": "https://localhost:8080/"
        },
        "id": "0pTG6LwmI4YW",
        "outputId": "2e8106c1-87ee-45b5-8854-aa0c7912716e"
      },
      "execution_count": null,
      "outputs": [
        {
          "output_type": "stream",
          "name": "stderr",
          "text": [
            "/usr/local/lib/python3.7/dist-packages/ipykernel_launcher.py:10: SettingWithCopyWarning: \n",
            "A value is trying to be set on a copy of a slice from a DataFrame.\n",
            "Try using .loc[row_indexer,col_indexer] = value instead\n",
            "\n",
            "See the caveats in the documentation: https://pandas.pydata.org/pandas-docs/stable/user_guide/indexing.html#returning-a-view-versus-a-copy\n",
            "  # Remove the CWD from sys.path while we load stuff.\n"
          ]
        }
      ]
    },
    {
      "cell_type": "code",
      "source": [
        "without_cats[0].head()"
      ],
      "metadata": {
        "colab": {
          "base_uri": "https://localhost:8080/",
          "height": 206
        },
        "id": "Qc0jTv6_KRtQ",
        "outputId": "5d5e491b-7921-4028-d240-76551cc9c9a3"
      },
      "execution_count": null,
      "outputs": [
        {
          "output_type": "execute_result",
          "data": {
            "text/plain": [
              "   BIT_DEPTH  RATE_OF_PENETRATION  HOOK_LOAD  DIFFERENTIAL_PRESSURE  \\\n",
              "0  -1.650501             0.201176  -1.633779              -2.060151   \n",
              "1  -1.650255             0.297355  -1.178382              -1.858231   \n",
              "2  -1.650176             0.297355  -1.258850              -1.907982   \n",
              "3  -1.649931             0.269115  -1.216966              -1.834140   \n",
              "4  -1.649853             0.340738  -1.233466              -1.927163   \n",
              "\n",
              "   WEIGHT_ON_BIT  DRILL_BIT_ID  \n",
              "0      -2.536055             1  \n",
              "1      -3.197556             1  \n",
              "2      -3.028645             1  \n",
              "3      -3.140975             1  \n",
              "4      -3.175090             1  "
            ],
            "text/html": [
              "\n",
              "  <div id=\"df-e2f443f6-9333-4858-9482-5fe0407d0121\">\n",
              "    <div class=\"colab-df-container\">\n",
              "      <div>\n",
              "<style scoped>\n",
              "    .dataframe tbody tr th:only-of-type {\n",
              "        vertical-align: middle;\n",
              "    }\n",
              "\n",
              "    .dataframe tbody tr th {\n",
              "        vertical-align: top;\n",
              "    }\n",
              "\n",
              "    .dataframe thead th {\n",
              "        text-align: right;\n",
              "    }\n",
              "</style>\n",
              "<table border=\"1\" class=\"dataframe\">\n",
              "  <thead>\n",
              "    <tr style=\"text-align: right;\">\n",
              "      <th></th>\n",
              "      <th>BIT_DEPTH</th>\n",
              "      <th>RATE_OF_PENETRATION</th>\n",
              "      <th>HOOK_LOAD</th>\n",
              "      <th>DIFFERENTIAL_PRESSURE</th>\n",
              "      <th>WEIGHT_ON_BIT</th>\n",
              "      <th>DRILL_BIT_ID</th>\n",
              "    </tr>\n",
              "  </thead>\n",
              "  <tbody>\n",
              "    <tr>\n",
              "      <th>0</th>\n",
              "      <td>-1.650501</td>\n",
              "      <td>0.201176</td>\n",
              "      <td>-1.633779</td>\n",
              "      <td>-2.060151</td>\n",
              "      <td>-2.536055</td>\n",
              "      <td>1</td>\n",
              "    </tr>\n",
              "    <tr>\n",
              "      <th>1</th>\n",
              "      <td>-1.650255</td>\n",
              "      <td>0.297355</td>\n",
              "      <td>-1.178382</td>\n",
              "      <td>-1.858231</td>\n",
              "      <td>-3.197556</td>\n",
              "      <td>1</td>\n",
              "    </tr>\n",
              "    <tr>\n",
              "      <th>2</th>\n",
              "      <td>-1.650176</td>\n",
              "      <td>0.297355</td>\n",
              "      <td>-1.258850</td>\n",
              "      <td>-1.907982</td>\n",
              "      <td>-3.028645</td>\n",
              "      <td>1</td>\n",
              "    </tr>\n",
              "    <tr>\n",
              "      <th>3</th>\n",
              "      <td>-1.649931</td>\n",
              "      <td>0.269115</td>\n",
              "      <td>-1.216966</td>\n",
              "      <td>-1.834140</td>\n",
              "      <td>-3.140975</td>\n",
              "      <td>1</td>\n",
              "    </tr>\n",
              "    <tr>\n",
              "      <th>4</th>\n",
              "      <td>-1.649853</td>\n",
              "      <td>0.340738</td>\n",
              "      <td>-1.233466</td>\n",
              "      <td>-1.927163</td>\n",
              "      <td>-3.175090</td>\n",
              "      <td>1</td>\n",
              "    </tr>\n",
              "  </tbody>\n",
              "</table>\n",
              "</div>\n",
              "      <button class=\"colab-df-convert\" onclick=\"convertToInteractive('df-e2f443f6-9333-4858-9482-5fe0407d0121')\"\n",
              "              title=\"Convert this dataframe to an interactive table.\"\n",
              "              style=\"display:none;\">\n",
              "        \n",
              "  <svg xmlns=\"http://www.w3.org/2000/svg\" height=\"24px\"viewBox=\"0 0 24 24\"\n",
              "       width=\"24px\">\n",
              "    <path d=\"M0 0h24v24H0V0z\" fill=\"none\"/>\n",
              "    <path d=\"M18.56 5.44l.94 2.06.94-2.06 2.06-.94-2.06-.94-.94-2.06-.94 2.06-2.06.94zm-11 1L8.5 8.5l.94-2.06 2.06-.94-2.06-.94L8.5 2.5l-.94 2.06-2.06.94zm10 10l.94 2.06.94-2.06 2.06-.94-2.06-.94-.94-2.06-.94 2.06-2.06.94z\"/><path d=\"M17.41 7.96l-1.37-1.37c-.4-.4-.92-.59-1.43-.59-.52 0-1.04.2-1.43.59L10.3 9.45l-7.72 7.72c-.78.78-.78 2.05 0 2.83L4 21.41c.39.39.9.59 1.41.59.51 0 1.02-.2 1.41-.59l7.78-7.78 2.81-2.81c.8-.78.8-2.07 0-2.86zM5.41 20L4 18.59l7.72-7.72 1.47 1.35L5.41 20z\"/>\n",
              "  </svg>\n",
              "      </button>\n",
              "      \n",
              "  <style>\n",
              "    .colab-df-container {\n",
              "      display:flex;\n",
              "      flex-wrap:wrap;\n",
              "      gap: 12px;\n",
              "    }\n",
              "\n",
              "    .colab-df-convert {\n",
              "      background-color: #E8F0FE;\n",
              "      border: none;\n",
              "      border-radius: 50%;\n",
              "      cursor: pointer;\n",
              "      display: none;\n",
              "      fill: #1967D2;\n",
              "      height: 32px;\n",
              "      padding: 0 0 0 0;\n",
              "      width: 32px;\n",
              "    }\n",
              "\n",
              "    .colab-df-convert:hover {\n",
              "      background-color: #E2EBFA;\n",
              "      box-shadow: 0px 1px 2px rgba(60, 64, 67, 0.3), 0px 1px 3px 1px rgba(60, 64, 67, 0.15);\n",
              "      fill: #174EA6;\n",
              "    }\n",
              "\n",
              "    [theme=dark] .colab-df-convert {\n",
              "      background-color: #3B4455;\n",
              "      fill: #D2E3FC;\n",
              "    }\n",
              "\n",
              "    [theme=dark] .colab-df-convert:hover {\n",
              "      background-color: #434B5C;\n",
              "      box-shadow: 0px 1px 3px 1px rgba(0, 0, 0, 0.15);\n",
              "      filter: drop-shadow(0px 1px 2px rgba(0, 0, 0, 0.3));\n",
              "      fill: #FFFFFF;\n",
              "    }\n",
              "  </style>\n",
              "\n",
              "      <script>\n",
              "        const buttonEl =\n",
              "          document.querySelector('#df-e2f443f6-9333-4858-9482-5fe0407d0121 button.colab-df-convert');\n",
              "        buttonEl.style.display =\n",
              "          google.colab.kernel.accessAllowed ? 'block' : 'none';\n",
              "\n",
              "        async function convertToInteractive(key) {\n",
              "          const element = document.querySelector('#df-e2f443f6-9333-4858-9482-5fe0407d0121');\n",
              "          const dataTable =\n",
              "            await google.colab.kernel.invokeFunction('convertToInteractive',\n",
              "                                                     [key], {});\n",
              "          if (!dataTable) return;\n",
              "\n",
              "          const docLinkHtml = 'Like what you see? Visit the ' +\n",
              "            '<a target=\"_blank\" href=https://colab.research.google.com/notebooks/data_table.ipynb>data table notebook</a>'\n",
              "            + ' to learn more about interactive tables.';\n",
              "          element.innerHTML = '';\n",
              "          dataTable['output_type'] = 'display_data';\n",
              "          await google.colab.output.renderOutput(dataTable, element);\n",
              "          const docLink = document.createElement('div');\n",
              "          docLink.innerHTML = docLinkHtml;\n",
              "          element.appendChild(docLink);\n",
              "        }\n",
              "      </script>\n",
              "    </div>\n",
              "  </div>\n",
              "  "
            ]
          },
          "metadata": {},
          "execution_count": 5
        }
      ]
    },
    {
      "cell_type": "code",
      "source": [
        "import numpy as np\n",
        "from sklearn.linear_model import LinearRegression\n",
        "from sklearn import preprocessing\n",
        "import sklearn\n",
        "import statsmodels.formula.api as smf\n",
        "from sklearn.preprocessing import PolynomialFeatures\n",
        "from joblib import dump, load"
      ],
      "metadata": {
        "id": "1OOTw-KSJeyM"
      },
      "execution_count": null,
      "outputs": []
    },
    {
      "cell_type": "code",
      "source": [
        "from sklearn.preprocessing import MinMaxScaler\n",
        "\n",
        "timestamps = 20\n",
        "\n",
        "X_trains = []\n",
        "Y_trains = []\n",
        "X_tests = []\n",
        "Y_tests = []\n",
        "\n",
        "for without_cat in without_cats:\n",
        "  training_set, testing_set = sklearn.model_selection.train_test_split(without_cat, test_size=0.2, random_state=25)\n",
        "  sc = MinMaxScaler(feature_range=(0,1))\n",
        "  training_set_scaled = sc.fit_transform(training_set.iloc[:, 2:5].values)\n",
        "  testing_set_scaled = sc.fit_transform(testing_set.iloc[:, 2:5].values)\n",
        "  X_train = []\n",
        "  Y_train = []\n",
        "  X_test = []\n",
        "  Y_test = []\n",
        "  for i in range(timestamps, len(training_set_scaled)):\n",
        "    X_train.append(training_set_scaled[i-timestamps:i, :])\n",
        "    Y_train.append(training_set_scaled[i, 1])\n",
        "  for i in range(timestamps, len(testing_set_scaled)):\n",
        "    X_test.append(testing_set_scaled[i-timestamps:i, :])\n",
        "    Y_test.append(testing_set_scaled[i, 1])  \n",
        "  X_train, Y_train = np.array(X_train), np.array(Y_train)\n",
        "  X_train = np.reshape(X_train, (X_train.shape[0], X_train.shape[1], 3))\n",
        "  X_trains.append(X_train)\n",
        "  Y_trains.append(Y_train)\n",
        "  X_test, Y_test = np.array(X_test), np.array(Y_test)\n",
        "  X_test = np.reshape(X_test, (X_test.shape[0], X_test.shape[1], 3))\n",
        "  X_tests.append(X_test)\n",
        "  Y_tests.append(Y_test)"
      ],
      "metadata": {
        "id": "SUwQ6XR8JHML"
      },
      "execution_count": null,
      "outputs": []
    },
    {
      "cell_type": "code",
      "source": [
        "from keras.models import Sequential\n",
        "from keras.layers import LSTM\n",
        "from keras.layers import Dropout\n",
        "from keras.layers import Dense "
      ],
      "metadata": {
        "id": "GJtrwn0RLF5p"
      },
      "execution_count": null,
      "outputs": []
    },
    {
      "cell_type": "code",
      "source": [
        "models = []\n",
        "\n",
        "for i in range(len(without_cats)):\n",
        "  model = Sequential()\n",
        "\n",
        "  model.add(LSTM(units=50,return_sequences=True,input_shape=(timestamps, 3)))\n",
        "  model.add(Dropout(0.2))\n",
        "\n",
        "  model.add(LSTM(units=50,return_sequences=True))\n",
        "  model.add(Dropout(0.2))\n",
        "\n",
        "  model.add(LSTM(units=50,return_sequences=True))\n",
        "  model.add(Dropout(0.2))\n",
        "\n",
        "  model.add(LSTM(units=50))\n",
        "  model.add(Dropout(0.2))\n",
        "\n",
        "  model.add(Dense(units=1))\n",
        "\n",
        "  model.compile(optimizer='adam',loss='mean_squared_error')\n",
        "\n",
        "  model.fit(X_trains[i],Y_trains[i],epochs=20,batch_size=32)\n",
        "\n",
        "  models.append(model)"
      ],
      "metadata": {
        "colab": {
          "base_uri": "https://localhost:8080/"
        },
        "id": "mpNvw6foK_Vl",
        "outputId": "bb781a91-c6df-4620-c945-ee465bb2abf7"
      },
      "execution_count": null,
      "outputs": [
        {
          "output_type": "stream",
          "name": "stdout",
          "text": [
            "Epoch 1/20\n",
            "455/455 [==============================] - 50s 10ms/step - loss: 0.0201\n",
            "Epoch 2/20\n",
            "455/455 [==============================] - 4s 10ms/step - loss: 0.0133\n",
            "Epoch 3/20\n",
            "455/455 [==============================] - 4s 10ms/step - loss: 0.0125\n",
            "Epoch 4/20\n",
            "455/455 [==============================] - 4s 10ms/step - loss: 0.0121\n",
            "Epoch 5/20\n",
            "455/455 [==============================] - 4s 10ms/step - loss: 0.0117\n",
            "Epoch 6/20\n",
            "455/455 [==============================] - 4s 10ms/step - loss: 0.0114\n",
            "Epoch 7/20\n",
            "455/455 [==============================] - 4s 10ms/step - loss: 0.0112\n",
            "Epoch 8/20\n",
            "455/455 [==============================] - 4s 10ms/step - loss: 0.0109\n",
            "Epoch 9/20\n",
            "455/455 [==============================] - 5s 11ms/step - loss: 0.0108\n",
            "Epoch 10/20\n",
            "455/455 [==============================] - 4s 10ms/step - loss: 0.0105\n",
            "Epoch 11/20\n",
            "455/455 [==============================] - 4s 10ms/step - loss: 0.0104\n",
            "Epoch 12/20\n",
            "455/455 [==============================] - 4s 9ms/step - loss: 0.0104\n",
            "Epoch 13/20\n",
            "455/455 [==============================] - 4s 10ms/step - loss: 0.0102\n",
            "Epoch 14/20\n",
            "455/455 [==============================] - 4s 10ms/step - loss: 0.0102\n",
            "Epoch 15/20\n",
            "455/455 [==============================] - 4s 10ms/step - loss: 0.0101\n",
            "Epoch 16/20\n",
            "455/455 [==============================] - 4s 10ms/step - loss: 0.0100\n",
            "Epoch 17/20\n",
            "455/455 [==============================] - 4s 9ms/step - loss: 0.0099\n",
            "Epoch 18/20\n",
            "455/455 [==============================] - 5s 11ms/step - loss: 0.0099\n",
            "Epoch 19/20\n",
            "455/455 [==============================] - 4s 9ms/step - loss: 0.0099\n",
            "Epoch 20/20\n",
            "455/455 [==============================] - 4s 10ms/step - loss: 0.0099\n",
            "Epoch 1/20\n",
            "520/520 [==============================] - 10s 10ms/step - loss: 0.0172\n",
            "Epoch 2/20\n",
            "520/520 [==============================] - 5s 10ms/step - loss: 0.0106\n",
            "Epoch 3/20\n",
            "520/520 [==============================] - 6s 11ms/step - loss: 0.0101\n",
            "Epoch 4/20\n",
            "520/520 [==============================] - 5s 9ms/step - loss: 0.0093\n",
            "Epoch 5/20\n",
            "520/520 [==============================] - 5s 10ms/step - loss: 0.0089\n",
            "Epoch 6/20\n",
            "520/520 [==============================] - 5s 9ms/step - loss: 0.0086\n",
            "Epoch 7/20\n",
            "520/520 [==============================] - 5s 10ms/step - loss: 0.0082\n",
            "Epoch 8/20\n",
            "520/520 [==============================] - 5s 9ms/step - loss: 0.0081\n",
            "Epoch 9/20\n",
            "520/520 [==============================] - 5s 9ms/step - loss: 0.0077\n",
            "Epoch 10/20\n",
            "520/520 [==============================] - 5s 10ms/step - loss: 0.0077\n",
            "Epoch 11/20\n",
            "520/520 [==============================] - 6s 11ms/step - loss: 0.0075\n",
            "Epoch 12/20\n",
            "520/520 [==============================] - 5s 10ms/step - loss: 0.0074\n",
            "Epoch 13/20\n",
            "520/520 [==============================] - 5s 10ms/step - loss: 0.0072\n",
            "Epoch 14/20\n",
            "520/520 [==============================] - 5s 10ms/step - loss: 0.0072\n",
            "Epoch 15/20\n",
            "520/520 [==============================] - 5s 10ms/step - loss: 0.0072\n",
            "Epoch 16/20\n",
            "520/520 [==============================] - 5s 10ms/step - loss: 0.0071\n",
            "Epoch 17/20\n",
            "520/520 [==============================] - 5s 10ms/step - loss: 0.0071\n",
            "Epoch 18/20\n",
            "520/520 [==============================] - 5s 10ms/step - loss: 0.0070\n",
            "Epoch 19/20\n",
            "520/520 [==============================] - 5s 10ms/step - loss: 0.0070\n",
            "Epoch 20/20\n",
            "520/520 [==============================] - 6s 11ms/step - loss: 0.0070\n",
            "Epoch 1/20\n",
            "433/433 [==============================] - 9s 9ms/step - loss: 0.0155\n",
            "Epoch 2/20\n",
            "433/433 [==============================] - 4s 10ms/step - loss: 0.0065\n",
            "Epoch 3/20\n",
            "433/433 [==============================] - 4s 10ms/step - loss: 0.0059\n",
            "Epoch 4/20\n",
            "433/433 [==============================] - 4s 10ms/step - loss: 0.0053\n",
            "Epoch 5/20\n",
            "433/433 [==============================] - 4s 10ms/step - loss: 0.0049\n",
            "Epoch 6/20\n",
            "433/433 [==============================] - 4s 10ms/step - loss: 0.0046\n",
            "Epoch 7/20\n",
            "433/433 [==============================] - 5s 11ms/step - loss: 0.0041\n",
            "Epoch 8/20\n",
            "433/433 [==============================] - 4s 10ms/step - loss: 0.0037\n",
            "Epoch 9/20\n",
            "433/433 [==============================] - 5s 11ms/step - loss: 0.0035\n",
            "Epoch 10/20\n",
            "433/433 [==============================] - 4s 10ms/step - loss: 0.0032\n",
            "Epoch 11/20\n",
            "433/433 [==============================] - 4s 10ms/step - loss: 0.0030\n",
            "Epoch 12/20\n",
            "433/433 [==============================] - 6s 15ms/step - loss: 0.0028\n",
            "Epoch 13/20\n",
            "433/433 [==============================] - 4s 10ms/step - loss: 0.0027\n",
            "Epoch 14/20\n",
            "433/433 [==============================] - 4s 10ms/step - loss: 0.0026\n",
            "Epoch 15/20\n",
            "433/433 [==============================] - 4s 10ms/step - loss: 0.0025\n",
            "Epoch 16/20\n",
            "433/433 [==============================] - 5s 11ms/step - loss: 0.0024\n",
            "Epoch 17/20\n",
            "433/433 [==============================] - 6s 13ms/step - loss: 0.0024\n",
            "Epoch 18/20\n",
            "433/433 [==============================] - 5s 12ms/step - loss: 0.0023\n",
            "Epoch 19/20\n",
            "433/433 [==============================] - 6s 14ms/step - loss: 0.0023\n",
            "Epoch 20/20\n",
            "433/433 [==============================] - 6s 14ms/step - loss: 0.0023\n",
            "Epoch 1/20\n",
            "453/453 [==============================] - 11s 12ms/step - loss: 0.0163\n",
            "Epoch 2/20\n",
            "453/453 [==============================] - 4s 10ms/step - loss: 0.0080\n",
            "Epoch 3/20\n",
            "453/453 [==============================] - 5s 12ms/step - loss: 0.0073\n",
            "Epoch 4/20\n",
            "453/453 [==============================] - 5s 10ms/step - loss: 0.0068\n",
            "Epoch 5/20\n",
            "453/453 [==============================] - 4s 10ms/step - loss: 0.0064\n",
            "Epoch 6/20\n",
            "453/453 [==============================] - 4s 10ms/step - loss: 0.0061\n",
            "Epoch 7/20\n",
            "453/453 [==============================] - 5s 11ms/step - loss: 0.0058\n",
            "Epoch 8/20\n",
            "453/453 [==============================] - 5s 11ms/step - loss: 0.0056\n",
            "Epoch 9/20\n",
            "453/453 [==============================] - 5s 11ms/step - loss: 0.0052\n",
            "Epoch 10/20\n",
            "453/453 [==============================] - 4s 10ms/step - loss: 0.0051\n",
            "Epoch 11/20\n",
            "453/453 [==============================] - 4s 10ms/step - loss: 0.0049\n",
            "Epoch 12/20\n",
            "453/453 [==============================] - 4s 10ms/step - loss: 0.0047\n",
            "Epoch 13/20\n",
            "453/453 [==============================] - 4s 10ms/step - loss: 0.0046\n",
            "Epoch 14/20\n",
            "453/453 [==============================] - 4s 9ms/step - loss: 0.0045\n",
            "Epoch 15/20\n",
            "453/453 [==============================] - 4s 10ms/step - loss: 0.0044\n",
            "Epoch 16/20\n",
            "453/453 [==============================] - 4s 10ms/step - loss: 0.0044\n",
            "Epoch 17/20\n",
            "453/453 [==============================] - 4s 10ms/step - loss: 0.0043\n",
            "Epoch 18/20\n",
            "453/453 [==============================] - 5s 11ms/step - loss: 0.0043\n",
            "Epoch 19/20\n",
            "453/453 [==============================] - 4s 10ms/step - loss: 0.0043\n",
            "Epoch 20/20\n",
            "453/453 [==============================] - 4s 10ms/step - loss: 0.0043\n"
          ]
        }
      ]
    },
    {
      "cell_type": "code",
      "source": [
        "for i in range(4):\n",
        "  models[i].save('model' + str(i))"
      ],
      "metadata": {
        "colab": {
          "base_uri": "https://localhost:8080/"
        },
        "id": "Mxhvwu4tZFob",
        "outputId": "00b4f2ba-8dd3-48f2-8601-5753c189d000"
      },
      "execution_count": null,
      "outputs": [
        {
          "output_type": "stream",
          "name": "stderr",
          "text": [
            "WARNING:absl:Found untraced functions such as lstm_cell_44_layer_call_fn, lstm_cell_44_layer_call_and_return_conditional_losses, lstm_cell_45_layer_call_fn, lstm_cell_45_layer_call_and_return_conditional_losses, lstm_cell_46_layer_call_fn while saving (showing 5 of 8). These functions will not be directly callable after loading.\n",
            "WARNING:absl:Found untraced functions such as lstm_cell_48_layer_call_fn, lstm_cell_48_layer_call_and_return_conditional_losses, lstm_cell_49_layer_call_fn, lstm_cell_49_layer_call_and_return_conditional_losses, lstm_cell_50_layer_call_fn while saving (showing 5 of 8). These functions will not be directly callable after loading.\n",
            "WARNING:absl:Found untraced functions such as lstm_cell_52_layer_call_fn, lstm_cell_52_layer_call_and_return_conditional_losses, lstm_cell_53_layer_call_fn, lstm_cell_53_layer_call_and_return_conditional_losses, lstm_cell_54_layer_call_fn while saving (showing 5 of 8). These functions will not be directly callable after loading.\n",
            "WARNING:absl:Found untraced functions such as lstm_cell_56_layer_call_fn, lstm_cell_56_layer_call_and_return_conditional_losses, lstm_cell_57_layer_call_fn, lstm_cell_57_layer_call_and_return_conditional_losses, lstm_cell_58_layer_call_fn while saving (showing 5 of 8). These functions will not be directly callable after loading.\n"
          ]
        }
      ]
    },
    {
      "cell_type": "code",
      "source": [
        "!zip -r /content/model4.zip /content/model3"
      ],
      "metadata": {
        "colab": {
          "base_uri": "https://localhost:8080/"
        },
        "id": "kuv-fN10a6N7",
        "outputId": "c9f1efc2-017b-4723-b63b-47d09e9af085"
      },
      "execution_count": null,
      "outputs": [
        {
          "output_type": "stream",
          "name": "stdout",
          "text": [
            "  adding: content/model3/ (stored 0%)\n",
            "  adding: content/model3/variables/ (stored 0%)\n",
            "  adding: content/model3/variables/variables.data-00000-of-00001 (deflated 7%)\n",
            "  adding: content/model3/variables/variables.index (deflated 69%)\n",
            "  adding: content/model3/assets/ (stored 0%)\n",
            "  adding: content/model3/saved_model.pb (deflated 91%)\n",
            "  adding: content/model3/keras_metadata.pb (deflated 93%)\n"
          ]
        }
      ]
    },
    {
      "cell_type": "code",
      "source": [
        "predicted = models[0].predict(X_tests[0])\n",
        "print(predicted)"
      ],
      "metadata": {
        "colab": {
          "base_uri": "https://localhost:8080/"
        },
        "id": "1FRQei-BVVYS",
        "outputId": "63ba7a56-ba45-4a49-f49c-4effe61fecad"
      },
      "execution_count": null,
      "outputs": [
        {
          "output_type": "stream",
          "name": "stdout",
          "text": [
            "114/114 [==============================] - 1s 6ms/step\n",
            "[[0.73961896]\n",
            " [0.7396183 ]\n",
            " [0.73961216]\n",
            " ...\n",
            " [0.73957413]\n",
            " [0.7395885 ]\n",
            " [0.7396027 ]]\n"
          ]
        }
      ]
    },
    {
      "cell_type": "code",
      "source": [
        "\n",
        "plt.plot(Y_tests[0], color = 'black', label = 'TATA Stock Price')\n",
        "plt.plot(predicted, color = 'green', label = 'Predicted TATA Stock Price')\n",
        "plt.title('TATA Stock Price Prediction')\n",
        "plt.xlabel('Time')\n",
        "plt.ylabel('TATA Stock Price')\n",
        "plt.legend()\n",
        "plt.show()"
      ],
      "metadata": {
        "colab": {
          "base_uri": "https://localhost:8080/",
          "height": 301
        },
        "id": "KPxM0P1qV-ZD",
        "outputId": "e376d4cd-8dd5-4e85-ed87-de6503f4498a"
      },
      "execution_count": null,
      "outputs": [
        {
          "output_type": "display_data",
          "data": {
            "text/plain": [
              "<Figure size 432x288 with 1 Axes>"
            ],
            "image/png": "[encoded data removed]"
          },
          "metadata": {}
        }
      ]
    }
  ]
}