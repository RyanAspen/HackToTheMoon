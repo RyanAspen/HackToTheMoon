{
  "nbformat": 4,
  "nbformat_minor": 0,
  "metadata": {
    "colab": {
      "provenance": []
    },
    "kernelspec": {
      "name": "python3",
      "display_name": "Python 3"
    },
    "language_info": {
      "name": "python"
    }
  },
  "cells": [
    {
      "cell_type": "code",
      "execution_count": null,
      "metadata": {
        "id": "OkVcXvlcXto5"
      },
      "outputs": [],
      "source": [
        "import pandas as pd\n",
        "import seaborn as sns\n",
        "from matplotlib import pyplot as plt\n",
        "sns.set() # Setting seaborn as default style even if use only matplotlib\n",
        "\n",
        "df_all = pd.concat(\n",
        "    [\n",
        "        pd.read_csv(\n",
        "            f\"https://raw.githubusercontent.com/ClassicSours/TheInterstellarAsteroidRush/main/Asteroids/Asteroid%20{i}.csv\"\n",
        "        )\n",
        "        for i in range(1, 21)\n",
        "    ]\n",
        ")"
      ]
    },
    {
      "cell_type": "code",
      "source": [
        "df_buzz = df_all[df_all['DRILL_BIT_NAME'] == 'Buzz Drilldrin']\n",
        "df_astro = df_all[df_all['DRILL_BIT_NAME'] == 'AstroBit']\n",
        "df_apollo = df_all[df_all['DRILL_BIT_NAME'] == 'Apollo']\n",
        "df_challenge = df_all[df_all['DRILL_BIT_NAME'] == 'ChallengDriller']"
      ],
      "metadata": {
        "id": "1sZRTKWQdsFv"
      },
      "execution_count": null,
      "outputs": []
    },
    {
      "cell_type": "code",
      "source": [
        "df_all.columns"
      ],
      "metadata": {
        "id": "LC7x8UpbAVBh",
        "outputId": "b01434d4-eef3-4a66-f963-48507d69b4f3",
        "colab": {
          "base_uri": "https://localhost:8080/"
        }
      },
      "execution_count": null,
      "outputs": [
        {
          "output_type": "execute_result",
          "data": {
            "text/plain": [
              "Index(['BIT_DEPTH', 'RATE_OF_PENETRATION', 'HOOK_LOAD',\n",
              "       'DIFFERENTIAL_PRESSURE', 'WEIGHT_ON_BIT', 'DRILL_BIT_ID',\n",
              "       'DRILL_BIT_NAME'],\n",
              "      dtype='object')"
            ]
          },
          "metadata": {},
          "execution_count": 3
        }
      ]
    },
    {
      "cell_type": "code",
      "source": [
        "dfs = [df_buzz, df_astro, df_apollo, df_challenge]\n",
        "for df in dfs:\n",
        "  df= df.loc[~df.index.duplicated(), :]"
      ],
      "metadata": {
        "id": "NRKJdcnpfILO"
      },
      "execution_count": null,
      "outputs": []
    },
    {
      "cell_type": "code",
      "source": [
        "cat = {'DRILL_BIT_ID', 'DRILL_BIT_NAME'}\n",
        "const = 15.0\n",
        "# normalize\n",
        "without_cats = []\n",
        "for df in dfs:\n",
        "  normalized_df = df\n",
        "  normalized_df = normalized_df.loc[~normalized_df.index.duplicated(), :]\n",
        "  for col in df.columns:\n",
        "      if col not in cat:\n",
        "          normalized_df[col] = (normalized_df[col]-normalized_df[col].mean())/normalized_df[col].std()\n",
        "          Q1 = normalized_df[col].quantile(0.25)\n",
        "          Q3 = normalized_df[col].quantile(0.75)\n",
        "          IQR = (Q3 - Q1)    #IQR is interquartile range. \n",
        "\n",
        "          filter = (normalized_df[col] >= Q1 - 1.5 * IQR) & (normalized_df[col] <= Q3 + 1.5 *IQR)\n",
        "          normalized_df = normalized_df[normalized_df[col] >= Q1 - const * IQR]\n",
        "          normalized_df = normalized_df[normalized_df[col] <= Q3 + const * IQR]\n",
        "          normalized_df = normalized_df[normalized_df[col] != 0]\n",
        "  without_cats.append(normalized_df.drop(['DRILL_BIT_NAME'], axis=1))\n",
        "          "
      ],
      "metadata": {
        "colab": {
          "base_uri": "https://localhost:8080/"
        },
        "id": "wKt5KMF9X-LV",
        "outputId": "3aefe557-5ea8-4290-a1c6-de3613aeb5f8"
      },
      "execution_count": null,
      "outputs": [
        {
          "output_type": "stream",
          "name": "stderr",
          "text": [
            "/usr/local/lib/python3.7/dist-packages/ipykernel_launcher.py:10: SettingWithCopyWarning: \n",
            "A value is trying to be set on a copy of a slice from a DataFrame.\n",
            "Try using .loc[row_indexer,col_indexer] = value instead\n",
            "\n",
            "See the caveats in the documentation: https://pandas.pydata.org/pandas-docs/stable/user_guide/indexing.html#returning-a-view-versus-a-copy\n",
            "  # Remove the CWD from sys.path while we load stuff.\n"
          ]
        }
      ]
    },
    {
      "cell_type": "code",
      "source": [
        "import numpy as np\n",
        "from sklearn.linear_model import LinearRegression\n",
        "from sklearn import preprocessing\n",
        "import sklearn\n",
        "import statsmodels.formula.api as smf\n",
        "from sklearn.preprocessing import PolynomialFeatures\n",
        "from joblib import dump, load"
      ],
      "metadata": {
        "id": "d9x9s7_IYXsR"
      },
      "execution_count": null,
      "outputs": []
    },
    {
      "cell_type": "code",
      "source": [
        "for a in range(4):\n",
        "  print(len(dfs[a]))"
      ],
      "metadata": {
        "colab": {
          "base_uri": "https://localhost:8080/"
        },
        "id": "AhVNGFrMD_YS",
        "outputId": "5063ed7b-f83b-46c4-ba0d-66ccdb6eac08"
      },
      "execution_count": null,
      "outputs": [
        {
          "output_type": "stream",
          "name": "stdout",
          "text": [
            "76489\n",
            "76522\n",
            "76548\n",
            "73023\n"
          ]
        }
      ]
    },
    {
      "cell_type": "code",
      "source": [
        "powers = [3,2,3,2]"
      ],
      "metadata": {
        "id": "pbueBAF4A0ld"
      },
      "execution_count": null,
      "outputs": []
    },
    {
      "cell_type": "code",
      "source": [
        "i = 1\n",
        "for without_cat in without_cats:\n",
        "  power = powers[i-1]\n",
        "  model = LinearRegression()\n",
        "  #without_cat[\"COMBINE\"] = without_cat[\"HOOK_LOAD\"] * without_cat[\"DIFFERENTIAL_PRESSURE\"]\n",
        "  training_data, testing_data = sklearn.model_selection.train_test_split(without_cat, test_size=0.2, random_state=25)\n",
        "  training_x = training_data.loc[:, training_data.columns!='RATE_OF_PENETRATION']\n",
        "  training_y = training_data['RATE_OF_PENETRATION']\n",
        "  test_x = testing_data.loc[:, testing_data.columns!='RATE_OF_PENETRATION']\n",
        "  test_y = testing_data['RATE_OF_PENETRATION']\n",
        "  training_x = preprocessing.scale(training_x)\n",
        "  test_x = preprocessing.scale(test_x)\n",
        "  training_y = preprocessing.scale(training_y)\n",
        "  test_y = preprocessing.scale(test_y)\n",
        "  poly = PolynomialFeatures(degree=power, include_bias=False)\n",
        "  poly_features_train = poly.fit_transform(training_x)\n",
        "  poly_features_test = poly.fit_transform(test_x)\n",
        "  model.fit(poly_features_train, training_y)\n",
        "  print(model.coef_)\n",
        "  score = model.score(poly_features_test, test_y)\n",
        "  print(\"Score for Bit Type \" + str(i) + \": \" + str(score))\n",
        "  dump(model, 'model' + str(i) + '.joblib') \n",
        "  i += 1"
      ],
      "metadata": {
        "colab": {
          "base_uri": "https://localhost:8080/"
        },
        "id": "sGrkvgEWYY6P",
        "outputId": "104bff25-0aba-4458-b6b4-8181c53580cc"
      },
      "execution_count": null,
      "outputs": [
        {
          "output_type": "stream",
          "name": "stdout",
          "text": [
            "Score for Bit Type 1: -0.009832493718450408\n",
            "Score for Bit Type 2: 0.00046474611283098266\n",
            "Score for Bit Type 3: -0.003545808163631703\n",
            "Score for Bit Type 4: -0.002297794300458955\n"
          ]
        }
      ]
    },
    {
      "cell_type": "code",
      "source": [
        "from joblib import load\n",
        "from sklearn.linear_model import LinearRegression\n",
        "from sklearn import preprocessing\n",
        "from sklearn.preprocessing import PolynomialFeatures\n",
        "\n",
        "powers = [3,2,3,2]\n",
        "\n",
        "def predict(filename, X, bit_num ): #bit num is not bit_id\n",
        "  clf = load(filename)\n",
        "  X = preprocessing.scale(X)\n",
        "  poly = PolynomialFeatures(degree=powers[bit_num - 1], include_bias=False)\n",
        "  poly_X = poly.fit_transform(X)\n",
        "  return clf.predict(poly_X)"
      ],
      "metadata": {
        "id": "y_xJ8Z1JEjhs"
      },
      "execution_count": null,
      "outputs": []
    }
  ]
}